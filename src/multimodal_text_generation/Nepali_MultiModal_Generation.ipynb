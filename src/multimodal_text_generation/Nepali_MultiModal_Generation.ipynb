{
  "cells": [
    {
      "cell_type": "code",
      "execution_count": null,
      "metadata": {
        "colab": {
          "base_uri": "https://localhost:8080/"
        },
        "id": "R6mF9BqYvcjF",
        "outputId": "13b170ee-b99b-48c3-a3d4-4066bd3f6e84"
      },
      "outputs": [
        {
          "name": "stdout",
          "output_type": "stream",
          "text": [
            "Mounted at /content/drive\n"
          ]
        }
      ],
      "source": [
        "from google.colab import drive\n",
        "drive.mount('/content/drive')"
      ]
    },
    {
      "cell_type": "code",
      "execution_count": null,
      "metadata": {
        "id": "ZoAS-777Uex8"
      },
      "outputs": [],
      "source": [
        "import torch"
      ]
    },
    {
      "cell_type": "code",
      "execution_count": null,
      "metadata": {
        "colab": {
          "base_uri": "https://localhost:8080/"
        },
        "id": "oZs2g1tXw2ut",
        "outputId": "c517fe60-6d9b-444e-f773-157d33e29f13"
      },
      "outputs": [
        {
          "name": "stdout",
          "output_type": "stream",
          "text": [
            "Cloning into 'Nepali_Multi_Modal'...\n",
            "remote: Enumerating objects: 448, done.\u001b[K\n",
            "remote: Counting objects: 100% (180/180), done.\u001b[K\n",
            "remote: Compressing objects: 100% (111/111), done.\u001b[K\n",
            "remote: Total 448 (delta 102), reused 117 (delta 50), pack-reused 268 (from 1)\u001b[K\n",
            "Receiving objects: 100% (448/448), 2.04 MiB | 4.82 MiB/s, done.\n",
            "Resolving deltas: 100% (259/259), done.\n"
          ]
        }
      ],
      "source": [
        "!git clone https://github.com/Anil-Banjade/Nepali_Multi_Modal.git\n"
      ]
    },
    {
      "cell_type": "code",
      "execution_count": null,
      "metadata": {
        "colab": {
          "base_uri": "https://localhost:8080/"
        },
        "id": "ZXoH2wNAGbz9",
        "outputId": "3b8d5cca-c3ca-41b7-cc0f-3f96cc6e5195"
      },
      "outputs": [
        {
          "name": "stdout",
          "output_type": "stream",
          "text": [
            "fatal: not a git repository (or any of the parent directories): .git\n",
            "fatal: not a git repository (or any of the parent directories): .git\n"
          ]
        }
      ],
      "source": [
        "!git fetch origin\n",
        "!git reset --hard origin/main"
      ]
    },
    {
      "cell_type": "code",
      "execution_count": null,
      "metadata": {
        "colab": {
          "base_uri": "https://localhost:8080/"
        },
        "id": "HxS-iF1uzUqV",
        "outputId": "761b30ac-4b1d-44da-89d6-b48aff747b46"
      },
      "outputs": [
        {
          "name": "stdout",
          "output_type": "stream",
          "text": [
            "/content/Nepali_Multi_Modal\n"
          ]
        }
      ],
      "source": [
        "%cd Nepali_Multi_Modal"
      ]
    },
    {
      "cell_type": "code",
      "execution_count": null,
      "metadata": {
        "id": "CVupO2aTw3h2"
      },
      "outputs": [],
      "source": [
        "%%capture\n",
        "!pip install -r requirements.txt"
      ]
    },
    {
      "cell_type": "code",
      "execution_count": null,
      "metadata": {
        "id": "BvVSifnFJPaY"
      },
      "outputs": [],
      "source": [
        "from src.multimodal_text_generation.main import main"
      ]
    },
    {
      "cell_type": "code",
      "execution_count": null,
      "metadata": {
        "id": "BMhp6gvJQztv"
      },
      "outputs": [],
      "source": [
        "if __name__ == \"__main__\":\n",
        "    model=main()\n",
        "    torch.save(model.state_dict(), '/content/drive/MyDrive/MinorProject_Nepali_MultiModal_LLM/autoregressive_model.pt')\n"
      ]
    },
    {
      "cell_type": "code",
      "execution_count": null,
      "metadata": {
        "id": "vaS4RVwrQz7o"
      },
      "outputs": [],
      "source": [
        "from src.multimodal_text_generation.main import test"
      ]
    },
    {
      "cell_type": "code",
      "execution_count": null,
      "metadata": {
        "colab": {
          "base_uri": "https://localhost:8080/"
        },
        "id": "4kKT64J9LJ_8",
        "outputId": "60c6e1ac-48e7-4bbf-8c45-5c84d738b508"
      },
      "outputs": [
        {
          "name": "stdout",
          "output_type": "stream",
          "text": [
            "Loading model...\n",
            "\n",
            "Attempt 1/3\n",
            "Original: कालो कुकुर र दाग भएको कुकुर लडिरहेका छन्\n",
            "Generated: एउटा मानिस भवनको भितताल बनको भिततामा उभिरहको छ ।\n"
          ]
        }
      ],
      "source": [
        "test()"
      ]
    },
    {
      "cell_type": "code",
      "execution_count": null,
      "metadata": {
        "id": "Hep1_uY7ZwFN"
      },
      "outputs": [],
      "source": []
    }
  ],
  "metadata": {
    "accelerator": "GPU",
    "colab": {
      "gpuType": "T4",
      "provenance": []
    },
    "kernelspec": {
      "display_name": "Python 3",
      "name": "python3"
    },
    "language_info": {
      "name": "python"
    }
  },
  "nbformat": 4,
  "nbformat_minor": 0
}
